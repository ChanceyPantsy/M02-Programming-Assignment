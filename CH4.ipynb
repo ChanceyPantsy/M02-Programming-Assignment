{
 "cells": [
  {
   "cell_type": "code",
   "execution_count": 1,
   "id": "86994d55",
   "metadata": {},
   "outputs": [
    {
     "name": "stdout",
     "output_type": "stream",
     "text": [
      "Guess a number between 1 and 10: 4\n",
      "too low\n",
      "Guess a number between 1 and 10: 5\n",
      "too low\n",
      "Guess a number between 1 and 10: 6\n",
      "too low\n",
      "Guess a number between 1 and 10: 8\n",
      "too high\n",
      "Guess a number between 1 and 10: 7\n",
      "just right\n"
     ]
    }
   ],
   "source": [
    "# CH4.1\n",
    "secret = 7\n",
    "\n",
    "while True:\n",
    "    # ask for a guess\n",
    "    guess = int(input(\"Guess a number between 1 and 10: \"))\n",
    "\n",
    "    # conditional tests\n",
    "    if guess < secret:\n",
    "        print('too low')\n",
    "    elif guess > secret:\n",
    "        print('too high')\n",
    "    else:\n",
    "        print('just right')\n",
    "        break  # correct guess, so exit the loop"
   ]
  },
