{
 "cells": [
  {
   "cell_type": "code",
   "execution_count": 1,
   "id": "86994d55",
   "metadata": {},
   "outputs": [
    {
     "name": "stdout",
     "output_type": "stream",
     "text": [
      "Guess a number between 1 and 10: 4\n",
      "too low\n",
      "Guess a number between 1 and 10: 5\n",
      "too low\n",
      "Guess a number between 1 and 10: 6\n",
      "too low\n",
      "Guess a number between 1 and 10: 8\n",
      "too high\n",
      "Guess a number between 1 and 10: 7\n",
      "just right\n"
     ]
    }
   ],
   "source": [
    "# CH4.1\n",
    "secret = 7\n",
    "\n",
    "while True:\n",
    "    # ask for a guess\n",
    "    guess = int(input(\"Guess a number between 1 and 10: \"))\n",
    "\n",
    "    # conditional tests\n",
    "    if guess < secret:\n",
    "        print('too low')\n",
    "    elif guess > secret:\n",
    "        print('too high')\n",
    "    else:\n",
    "        print('just right')\n",
    "        break  # correct guess, so exit the loop"
   ]
  },
  {
   "cell_type": "code",
   "execution_count": null,
   "id": "73b15252",
   "metadata": {},
   "outputs": [],
   "source": [
    "#CH4.2"
   ]
  },
  {
   "cell_type": "code",
   "execution_count": 1,
   "id": "c3980cd3",
   "metadata": {},
   "outputs": [
    {
     "name": "stdout",
     "output_type": "stream",
     "text": [
      "Guess a number between 1 and 10: 4\n",
      "too low\n",
      "Guess a number between 1 and 10: 5\n",
      "too low\n",
      "Guess a number between 1 and 10: 6\n",
      "too low\n",
      "Guess a number between 1 and 10: 8\n",
      "too high\n",
      "Guess a number between 1 and 10: 7\n",
      "just right\n"
     ]
    }
   ],
   "source": [
    "# assign number to 'secret'\n",
    "secret = 7\n",
    "\n",
    "while True:\n",
    "    # ask for a guess\n",
    "    guess = int(input(\"Guess a number between 1 and 10: \"))\n",
    "\n",
    "    # conditional tests\n",
    "    if guess < secret:\n",
    "        print('too low')\n",
    "    elif guess > secret:\n",
    "        print('too high')\n",
    "    else:\n",
    "        print('just right')\n",
    "        break  # correct guess, so exit the loop"
   ]
  }
 ],
 "metadata": {
  "kernelspec": {
   "display_name": "Python 3 (ipykernel)",
   "language": "python",
   "name": "python3"
  },
  "language_info": {
   "codemirror_mode": {
    "name": "ipython",
    "version": 3
   },
   "file_extension": ".py",
   "mimetype": "text/x-python",
   "name": "python",
   "nbconvert_exporter": "python",
   "pygments_lexer": "ipython3",
   "version": "3.10.6"
  }
 },
 "nbformat": 4,
 "nbformat_minor": 5
}
